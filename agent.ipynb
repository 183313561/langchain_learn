{
 "cells": [
  {
   "cell_type": "markdown",
   "metadata": {},
   "source": [
    "这次准备搞一个agent，因为大模型只能输出字符，不能做实际的事项，所以要调用tools，今天是这样的一个demo"
   ]
  },
  {
   "cell_type": "code",
   "execution_count": 1,
   "metadata": {},
   "outputs": [],
   "source": [
    "# Import relevant functionality\n",
    "from langchain_openai import ChatOpenAI\n",
    "from langchain_community.tools.tavily_search import TavilySearchResults\n",
    "from langchain_core.messages import HumanMessage\n",
    "from langgraph.checkpoint.memory import MemorySaver\n",
    "from langgraph.prebuilt import create_react_agent\n",
    "import os\n",
    "\n",
    "\n",
    "\n",
    "# Create the agent\n",
    "memory = MemorySaver()\n",
    "model = ChatOpenAI(\n",
    "    openai_api_base=\"https://api.siliconflow.cn/v1/\",\n",
    "    openai_api_key=\"sk-fhiarggsenvokytospnfdujbhoesbeoszesxovjfegzcygfi\",    # app_key\n",
    "    model_name=\"Qwen/Qwen2.5-7B-Instruct\",   # 模型名称\n",
    ")\n",
    "search = TavilySearchResults(max_results=2)\n",
    "tools = [search]\n",
    "agent_executor = create_react_agent(model, tools, checkpointer=memory)\n",
    "# Run the agent"
   ]
  }
 ],
 "metadata": {
  "kernelspec": {
   "display_name": "langchain1",
   "language": "python",
   "name": "python3"
  },
  "language_info": {
   "codemirror_mode": {
    "name": "ipython",
    "version": 3
   },
   "file_extension": ".py",
   "mimetype": "text/x-python",
   "name": "python",
   "nbconvert_exporter": "python",
   "pygments_lexer": "ipython3",
   "version": "3.10.16"
  }
 },
 "nbformat": 4,
 "nbformat_minor": 2
}
